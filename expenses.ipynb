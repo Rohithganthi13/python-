{
 "cells": [
  {
   "cell_type": "code",
   "execution_count": 5,
   "id": "67db7d0c-6d04-406c-9d05-150a792ffb2f",
   "metadata": {},
   "outputs": [
    {
     "name": "stdout",
     "output_type": "stream",
     "text": [
      "\n",
      "All Expenses:\n",
      "Name: Groceries, Amount: Rs500, Category: Food\n",
      "Name: Taxi, Amount: Rs200, Category: Transport\n",
      "Name: Coffee, Amount: Rs50, Category: Food\n",
      "Name: Bus Ticket, Amount: Rs300, Category: Transport\n",
      "\n",
      "Total Expenses: Rs1050\n",
      "\n",
      "Expense Summary by Category:\n",
      "Food: Rs550\n",
      "Transport: Rs500\n",
      "\n",
      "Unique Categories:\n",
      "Food\n",
      "Transport\n"
     ]
    }
   ],
   "source": [
    "expenses = []\n",
    "categories = set()\n",
    "\n",
    "def add_expense(name, amount, category):\n",
    "    expense = (name, amount, category)\n",
    "    expenses.append(expense)\n",
    "    categories.add(category)\n",
    "\n",
    "def display_expenses():\n",
    "    print(\"\\nAll Expenses:\")\n",
    "    for expense in expenses:\n",
    "        print(f\"Name: {expense[0]}, Amount: Rs{expense[1]}, Category: {expense[2]}\")\n",
    "\n",
    "def total_expenses():\n",
    "    total = sum(expense[1] for expense in expenses)\n",
    "    print(f\"\\nTotal Expenses: Rs{total}\")\n",
    "\n",
    "def summary_by_category():\n",
    "    summary = {category: sum(expense[1] for expense in expenses if expense[2] == category) for category in categories}\n",
    "    print(\"\\nExpense Summary by Category:\")\n",
    "    for category, total in summary.items():\n",
    "        print(f\"{category}: Rs{total}\")\n",
    "\n",
    "def display_categories():\n",
    "    print(\"\\nUnique Categories:\")\n",
    "    for category in categories:\n",
    "        print(category)\n",
    "\n",
    "add_expense(\"Groceries\", 500, \"Food\")\n",
    "add_expense(\"Taxi\", 200, \"Transport\")\n",
    "add_expense(\"Coffee\", 50, \"Food\")\n",
    "add_expense(\"Bus Ticket\", 300, \"Transport\")\n",
    "\n",
    "display_expenses()\n",
    "total_expenses()\n",
    "summary_by_category()\n",
    "display_categories()\n"
   ]
  },
  {
   "cell_type": "code",
   "execution_count": null,
   "id": "b31a8746-0f17-47fb-8ab4-8bbdd4053017",
   "metadata": {},
   "outputs": [],
   "source": []
  }
 ],
 "metadata": {
  "kernelspec": {
   "display_name": "Python 3 (ipykernel)",
   "language": "python",
   "name": "python3"
  },
  "language_info": {
   "codemirror_mode": {
    "name": "ipython",
    "version": 3
   },
   "file_extension": ".py",
   "mimetype": "text/x-python",
   "name": "python",
   "nbconvert_exporter": "python",
   "pygments_lexer": "ipython3",
   "version": "3.12.4"
  }
 },
 "nbformat": 4,
 "nbformat_minor": 5
}
